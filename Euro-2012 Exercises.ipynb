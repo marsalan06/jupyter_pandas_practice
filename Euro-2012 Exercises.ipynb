{
 "cells": [
  {
   "cell_type": "markdown",
   "metadata": {},
   "source": [
    "\n",
    "\n",
    "### Step 1. Import the necessary libraries"
   ]
  },
  {
   "cell_type": "code",
   "execution_count": 1,
   "metadata": {},
   "outputs": [],
   "source": [
    "import pandas as pd\n",
    "import numpy as np"
   ]
  },
  {
   "cell_type": "markdown",
   "metadata": {},
   "source": [
    "### Step 2. Import the dataset Euro_2012_stats_TEAM"
   ]
  },
  {
   "cell_type": "markdown",
   "metadata": {},
   "source": [
    "### Step 3. Assign it to a variable called euro12."
   ]
  },
  {
   "cell_type": "code",
   "execution_count": 2,
   "metadata": {
    "scrolled": false
   },
   "outputs": [
    {
     "name": "stdout",
     "output_type": "stream",
     "text": [
      "                                                 Team  Goals  Shots on target  \\\n",
      "0                                             Croatia    4.0             13.0   \n",
      "1                                      Czech Republic    4.0             13.0   \n",
      "2                                             Denmark    4.0             10.0   \n",
      "3                                             England    5.0             11.0   \n",
      "4                                              France    3.0             22.0   \n",
      "5                                             Germany   10.0             32.0   \n",
      "6                                              Greece    5.0              8.0   \n",
      "7                                               Italy    6.0             34.0   \n",
      "8                                         Netherlands    2.0             12.0   \n",
      "9                                              Poland    2.0             15.0   \n",
      "10                                           Portugal    6.0             22.0   \n",
      "11                                Republic of Ireland    1.0              7.0   \n",
      "12                                             Russia    5.0              9.0   \n",
      "13                                              Spain   12.0             42.0   \n",
      "14                                             Sweden    5.0             17.0   \n",
      "15                                            Ukraine    2.0              7.0   \n",
      "16                                                NaN    NaN              NaN   \n",
      "17                                                NaN    NaN              NaN   \n",
      "18                                                NaN    NaN              NaN   \n",
      "19  https://towardsdatascience.com/data-handling-u...    NaN              NaN   \n",
      "\n",
      "    Shots off target Shooting Accuracy % Goals-to-shots  \\\n",
      "0               12.0            51.90%           16.00%   \n",
      "1               18.0            41.90%           12.90%   \n",
      "2               10.0            50.00%           20.00%   \n",
      "3               18.0            50.00%           17.20%   \n",
      "4               24.0            37.90%            6.50%   \n",
      "5               32.0            47.80%           15.60%   \n",
      "6               18.0            30.70%           19.20%   \n",
      "7               45.0            43.00%            7.50%   \n",
      "8               36.0            25.00%            4.10%   \n",
      "9               23.0            39.40%            5.20%   \n",
      "10              42.0            34.30%            9.30%   \n",
      "11              12.0            36.80%            5.20%   \n",
      "12              31.0            22.50%           12.50%   \n",
      "13              33.0            55.90%           16.00%   \n",
      "14              19.0            47.20%           13.80%   \n",
      "15              26.0            21.20%            6.00%   \n",
      "16               NaN               NaN              NaN   \n",
      "17               NaN               NaN              NaN   \n",
      "18               NaN               NaN              NaN   \n",
      "19               NaN               NaN              NaN   \n",
      "\n",
      "    Total shots (inc. Blocked)  Hit Woodwork  Penalty goals  \\\n",
      "0                         32.0           0.0            0.0   \n",
      "1                         39.0           0.0            0.0   \n",
      "2                         27.0           1.0            0.0   \n",
      "3                         40.0           0.0            0.0   \n",
      "4                         65.0           1.0            0.0   \n",
      "5                         80.0           2.0            1.0   \n",
      "6                         32.0           1.0            1.0   \n",
      "7                        110.0           2.0            0.0   \n",
      "8                         60.0           2.0            0.0   \n",
      "9                         48.0           0.0            0.0   \n",
      "10                        82.0           6.0            0.0   \n",
      "11                        28.0           0.0            0.0   \n",
      "12                        59.0           2.0            0.0   \n",
      "13                       100.0           0.0            1.0   \n",
      "14                        39.0           3.0            0.0   \n",
      "15                        38.0           0.0            0.0   \n",
      "16                         NaN           NaN            NaN   \n",
      "17                         NaN           NaN            NaN   \n",
      "18                         NaN           NaN            NaN   \n",
      "19                         NaN           NaN            NaN   \n",
      "\n",
      "    Penalties not scored  ...  Saves made  Saves-to-shots ratio  Fouls Won  \\\n",
      "0                    0.0  ...        13.0                81.30%       41.0   \n",
      "1                    0.0  ...         9.0                60.10%       53.0   \n",
      "2                    0.0  ...        10.0                66.70%       25.0   \n",
      "3                    0.0  ...        22.0                88.10%       43.0   \n",
      "4                    0.0  ...         6.0                54.60%       36.0   \n",
      "5                    0.0  ...        10.0                62.60%       63.0   \n",
      "6                    1.0  ...        13.0                65.10%       67.0   \n",
      "7                    0.0  ...        20.0                74.10%      101.0   \n",
      "8                    0.0  ...        12.0                70.60%       35.0   \n",
      "9                    0.0  ...         6.0                66.70%       48.0   \n",
      "10                   0.0  ...        10.0                71.50%       73.0   \n",
      "11                   0.0  ...        17.0                65.40%       43.0   \n",
      "12                   0.0  ...        10.0                77.00%       34.0   \n",
      "13                   0.0  ...        15.0                93.80%      102.0   \n",
      "14                   0.0  ...         8.0                61.60%       35.0   \n",
      "15                   0.0  ...        13.0                76.50%       48.0   \n",
      "16                   NaN  ...         NaN                   NaN        NaN   \n",
      "17                   NaN  ...         NaN                   NaN        NaN   \n",
      "18                   NaN  ...         NaN                   NaN        NaN   \n",
      "19                   NaN  ...         NaN                   NaN        NaN   \n",
      "\n",
      "   Fouls Conceded  Offsides  Yellow Cards  Red Cards  Subs on  Subs off  \\\n",
      "0            62.0       2.0           9.0        0.0      9.0       9.0   \n",
      "1            73.0       8.0           7.0        0.0     11.0      11.0   \n",
      "2            38.0       8.0           4.0        0.0      7.0       7.0   \n",
      "3            45.0       6.0           5.0        0.0     11.0      11.0   \n",
      "4            51.0       5.0           6.0        0.0     11.0      11.0   \n",
      "5            49.0      12.0           4.0        0.0     15.0      15.0   \n",
      "6            48.0      12.0           9.0        1.0     12.0      12.0   \n",
      "7            89.0      16.0          16.0        0.0     18.0      18.0   \n",
      "8            30.0       3.0           5.0        0.0      7.0       7.0   \n",
      "9            56.0       3.0           7.0        1.0      7.0       7.0   \n",
      "10           90.0      10.0          12.0        0.0     14.0      14.0   \n",
      "11           51.0      11.0           6.0        1.0     10.0      10.0   \n",
      "12           43.0       4.0           6.0        0.0      7.0       7.0   \n",
      "13           83.0      19.0          11.0        0.0     17.0      17.0   \n",
      "14           51.0       7.0           7.0        0.0      9.0       9.0   \n",
      "15           31.0       4.0           5.0        0.0      9.0       9.0   \n",
      "16            NaN       NaN           NaN        NaN      NaN       NaN   \n",
      "17            NaN       NaN           NaN        NaN      NaN       NaN   \n",
      "18            NaN       NaN           NaN        NaN      NaN       NaN   \n",
      "19            NaN       NaN           NaN        NaN      NaN       NaN   \n",
      "\n",
      "    Players Used  \n",
      "0           16.0  \n",
      "1           19.0  \n",
      "2           15.0  \n",
      "3           16.0  \n",
      "4           19.0  \n",
      "5           17.0  \n",
      "6           20.0  \n",
      "7           19.0  \n",
      "8           15.0  \n",
      "9           17.0  \n",
      "10          16.0  \n",
      "11          17.0  \n",
      "12          16.0  \n",
      "13          18.0  \n",
      "14          18.0  \n",
      "15          18.0  \n",
      "16           NaN  \n",
      "17           NaN  \n",
      "18           NaN  \n",
      "19           NaN  \n",
      "\n",
      "[20 rows x 35 columns]\n"
     ]
    }
   ],
   "source": [
    "data=pd.read_csv(\"Euro_2012_stats_TEAM.csv\")\n",
    "euro12=pd.DataFrame(data)\n",
    "print(euro12)"
   ]
  },
  {
   "cell_type": "markdown",
   "metadata": {},
   "source": [
    "### Step 4. Select only the Goal column."
   ]
  },
  {
   "cell_type": "code",
   "execution_count": 3,
   "metadata": {},
   "outputs": [
    {
     "data": {
      "text/plain": [
       "0      4.0\n",
       "1      4.0\n",
       "2      4.0\n",
       "3      5.0\n",
       "4      3.0\n",
       "5     10.0\n",
       "6      5.0\n",
       "7      6.0\n",
       "8      2.0\n",
       "9      2.0\n",
       "10     6.0\n",
       "11     1.0\n",
       "12     5.0\n",
       "13    12.0\n",
       "14     5.0\n",
       "15     2.0\n",
       "16     NaN\n",
       "17     NaN\n",
       "18     NaN\n",
       "19     NaN\n",
       "Name: Goals, dtype: float64"
      ]
     },
     "execution_count": 3,
     "metadata": {},
     "output_type": "execute_result"
    }
   ],
   "source": [
    "euro12['Goals']"
   ]
  },
  {
   "cell_type": "markdown",
   "metadata": {},
   "source": [
    "### Step 5. How many team participated in the Euro2012?"
   ]
  },
  {
   "cell_type": "code",
   "execution_count": 5,
   "metadata": {},
   "outputs": [
    {
     "data": {
      "text/plain": [
       "20"
      ]
     },
     "execution_count": 5,
     "metadata": {},
     "output_type": "execute_result"
    }
   ],
   "source": [
    "len(euro12['Team'])"
   ]
  },
  {
   "cell_type": "markdown",
   "metadata": {},
   "source": [
    "### Step 6. What is the number of columns in the dataset?"
   ]
  },
  {
   "cell_type": "code",
   "execution_count": 8,
   "metadata": {},
   "outputs": [
    {
     "name": "stdout",
     "output_type": "stream",
     "text": [
      "20\n"
     ]
    },
    {
     "data": {
      "text/plain": [
       "35"
      ]
     },
     "execution_count": 8,
     "metadata": {},
     "output_type": "execute_result"
    }
   ],
   "source": [
    "print(len(euro12.index))\n",
    "len(euro12.columns)"
   ]
  },
  {
   "cell_type": "markdown",
   "metadata": {},
   "source": [
    "### Step 7. View only the columns Team, Yellow Cards and Red Cards and assign them to a dataframe called discipline"
   ]
  },
  {
   "cell_type": "code",
   "execution_count": 17,
   "metadata": {},
   "outputs": [
    {
     "name": "stdout",
     "output_type": "stream",
     "text": [
      "                                                 Team  Yellow Cards  Red Cards\n",
      "0                                             Croatia           9.0        0.0\n",
      "1                                      Czech Republic           7.0        0.0\n",
      "2                                             Denmark           4.0        0.0\n",
      "3                                             England           5.0        0.0\n",
      "4                                              France           6.0        0.0\n",
      "5                                             Germany           4.0        0.0\n",
      "6                                              Greece           9.0        1.0\n",
      "7                                               Italy          16.0        0.0\n",
      "8                                         Netherlands           5.0        0.0\n",
      "9                                              Poland           7.0        1.0\n",
      "10                                           Portugal          12.0        0.0\n",
      "11                                Republic of Ireland           6.0        1.0\n",
      "12                                             Russia           6.0        0.0\n",
      "13                                              Spain          11.0        0.0\n",
      "14                                             Sweden           7.0        0.0\n",
      "15                                            Ukraine           5.0        0.0\n",
      "16                                                NaN           NaN        NaN\n",
      "17                                                NaN           NaN        NaN\n",
      "18                                                NaN           NaN        NaN\n",
      "19  https://towardsdatascience.com/data-handling-u...           NaN        NaN\n"
     ]
    }
   ],
   "source": [
    "select=euro12[[\"Team\",\"Yellow Cards\",\"Red Cards\"]]\n",
    "#print(select)\n",
    "discipline=pd.DataFrame(select)\n",
    "print(discipline)"
   ]
  },
  {
   "cell_type": "markdown",
   "metadata": {},
   "source": [
    "### Step 8. Sort the teams by Red Cards, then to Yellow Cards"
   ]
  },
  {
   "cell_type": "code",
   "execution_count": 35,
   "metadata": {
    "scrolled": true
   },
   "outputs": [
    {
     "data": {
      "text/html": [
       "<div>\n",
       "<style scoped>\n",
       "    .dataframe tbody tr th:only-of-type {\n",
       "        vertical-align: middle;\n",
       "    }\n",
       "\n",
       "    .dataframe tbody tr th {\n",
       "        vertical-align: top;\n",
       "    }\n",
       "\n",
       "    .dataframe thead th {\n",
       "        text-align: right;\n",
       "    }\n",
       "</style>\n",
       "<table border=\"1\" class=\"dataframe\">\n",
       "  <thead>\n",
       "    <tr style=\"text-align: right;\">\n",
       "      <th></th>\n",
       "      <th>Team</th>\n",
       "      <th>Yellow Cards</th>\n",
       "      <th>Red Cards</th>\n",
       "    </tr>\n",
       "  </thead>\n",
       "  <tbody>\n",
       "    <tr>\n",
       "      <th>2</th>\n",
       "      <td>Denmark</td>\n",
       "      <td>4.0</td>\n",
       "      <td>0.0</td>\n",
       "    </tr>\n",
       "    <tr>\n",
       "      <th>5</th>\n",
       "      <td>Germany</td>\n",
       "      <td>4.0</td>\n",
       "      <td>0.0</td>\n",
       "    </tr>\n",
       "    <tr>\n",
       "      <th>3</th>\n",
       "      <td>England</td>\n",
       "      <td>5.0</td>\n",
       "      <td>0.0</td>\n",
       "    </tr>\n",
       "    <tr>\n",
       "      <th>8</th>\n",
       "      <td>Netherlands</td>\n",
       "      <td>5.0</td>\n",
       "      <td>0.0</td>\n",
       "    </tr>\n",
       "    <tr>\n",
       "      <th>15</th>\n",
       "      <td>Ukraine</td>\n",
       "      <td>5.0</td>\n",
       "      <td>0.0</td>\n",
       "    </tr>\n",
       "    <tr>\n",
       "      <th>4</th>\n",
       "      <td>France</td>\n",
       "      <td>6.0</td>\n",
       "      <td>0.0</td>\n",
       "    </tr>\n",
       "    <tr>\n",
       "      <th>12</th>\n",
       "      <td>Russia</td>\n",
       "      <td>6.0</td>\n",
       "      <td>0.0</td>\n",
       "    </tr>\n",
       "    <tr>\n",
       "      <th>11</th>\n",
       "      <td>Republic of Ireland</td>\n",
       "      <td>6.0</td>\n",
       "      <td>1.0</td>\n",
       "    </tr>\n",
       "    <tr>\n",
       "      <th>1</th>\n",
       "      <td>Czech Republic</td>\n",
       "      <td>7.0</td>\n",
       "      <td>0.0</td>\n",
       "    </tr>\n",
       "    <tr>\n",
       "      <th>14</th>\n",
       "      <td>Sweden</td>\n",
       "      <td>7.0</td>\n",
       "      <td>0.0</td>\n",
       "    </tr>\n",
       "    <tr>\n",
       "      <th>9</th>\n",
       "      <td>Poland</td>\n",
       "      <td>7.0</td>\n",
       "      <td>1.0</td>\n",
       "    </tr>\n",
       "    <tr>\n",
       "      <th>0</th>\n",
       "      <td>Croatia</td>\n",
       "      <td>9.0</td>\n",
       "      <td>0.0</td>\n",
       "    </tr>\n",
       "    <tr>\n",
       "      <th>6</th>\n",
       "      <td>Greece</td>\n",
       "      <td>9.0</td>\n",
       "      <td>1.0</td>\n",
       "    </tr>\n",
       "    <tr>\n",
       "      <th>13</th>\n",
       "      <td>Spain</td>\n",
       "      <td>11.0</td>\n",
       "      <td>0.0</td>\n",
       "    </tr>\n",
       "    <tr>\n",
       "      <th>10</th>\n",
       "      <td>Portugal</td>\n",
       "      <td>12.0</td>\n",
       "      <td>0.0</td>\n",
       "    </tr>\n",
       "    <tr>\n",
       "      <th>7</th>\n",
       "      <td>Italy</td>\n",
       "      <td>16.0</td>\n",
       "      <td>0.0</td>\n",
       "    </tr>\n",
       "    <tr>\n",
       "      <th>16</th>\n",
       "      <td>NaN</td>\n",
       "      <td>NaN</td>\n",
       "      <td>NaN</td>\n",
       "    </tr>\n",
       "    <tr>\n",
       "      <th>17</th>\n",
       "      <td>NaN</td>\n",
       "      <td>NaN</td>\n",
       "      <td>NaN</td>\n",
       "    </tr>\n",
       "    <tr>\n",
       "      <th>18</th>\n",
       "      <td>NaN</td>\n",
       "      <td>NaN</td>\n",
       "      <td>NaN</td>\n",
       "    </tr>\n",
       "    <tr>\n",
       "      <th>19</th>\n",
       "      <td>https://towardsdatascience.com/data-handling-u...</td>\n",
       "      <td>NaN</td>\n",
       "      <td>NaN</td>\n",
       "    </tr>\n",
       "  </tbody>\n",
       "</table>\n",
       "</div>"
      ],
      "text/plain": [
       "                                                 Team  Yellow Cards  Red Cards\n",
       "2                                             Denmark           4.0        0.0\n",
       "5                                             Germany           4.0        0.0\n",
       "3                                             England           5.0        0.0\n",
       "8                                         Netherlands           5.0        0.0\n",
       "15                                            Ukraine           5.0        0.0\n",
       "4                                              France           6.0        0.0\n",
       "12                                             Russia           6.0        0.0\n",
       "11                                Republic of Ireland           6.0        1.0\n",
       "1                                      Czech Republic           7.0        0.0\n",
       "14                                             Sweden           7.0        0.0\n",
       "9                                              Poland           7.0        1.0\n",
       "0                                             Croatia           9.0        0.0\n",
       "6                                              Greece           9.0        1.0\n",
       "13                                              Spain          11.0        0.0\n",
       "10                                           Portugal          12.0        0.0\n",
       "7                                               Italy          16.0        0.0\n",
       "16                                                NaN           NaN        NaN\n",
       "17                                                NaN           NaN        NaN\n",
       "18                                                NaN           NaN        NaN\n",
       "19  https://towardsdatascience.com/data-handling-u...           NaN        NaN"
      ]
     },
     "execution_count": 35,
     "metadata": {},
     "output_type": "execute_result"
    }
   ],
   "source": [
    "discipline.sort_values(\"Red Cards\",axis=0,ascending=True,na_position='last')\n",
    "discipline.sort_values(\"Yellow Cards\")"
   ]
  },
  {
   "cell_type": "markdown",
   "metadata": {},
   "source": [
    "### Step 9. Calculate the mean Yellow Cards given per Team"
   ]
  },
  {
   "cell_type": "code",
   "execution_count": 39,
   "metadata": {},
   "outputs": [
    {
     "data": {
      "text/plain": [
       "Yellow Cards    7.4375\n",
       "Red Cards       0.1875\n",
       "dtype: float64"
      ]
     },
     "execution_count": 39,
     "metadata": {},
     "output_type": "execute_result"
    }
   ],
   "source": [
    "discipline.mean()"
   ]
  },
  {
   "cell_type": "markdown",
   "metadata": {},
   "source": [
    "### Step 10. Filter teams that scored more than 6 goals"
   ]
  },
  {
   "cell_type": "code",
   "execution_count": 44,
   "metadata": {
    "scrolled": true
   },
   "outputs": [
    {
     "name": "stdout",
     "output_type": "stream",
     "text": [
      "                                                 Team  Goals\n",
      "0                                             Croatia    4.0\n",
      "1                                      Czech Republic    4.0\n",
      "2                                             Denmark    4.0\n",
      "3                                             England    5.0\n",
      "4                                              France    3.0\n",
      "5                                             Germany   10.0\n",
      "6                                              Greece    5.0\n",
      "7                                               Italy    6.0\n",
      "8                                         Netherlands    2.0\n",
      "9                                              Poland    2.0\n",
      "10                                           Portugal    6.0\n",
      "11                                Republic of Ireland    1.0\n",
      "12                                             Russia    5.0\n",
      "13                                              Spain   12.0\n",
      "14                                             Sweden    5.0\n",
      "15                                            Ukraine    2.0\n",
      "16                                                NaN    NaN\n",
      "17                                                NaN    NaN\n",
      "18                                                NaN    NaN\n",
      "19  https://towardsdatascience.com/data-handling-u...    NaN\n"
     ]
    },
    {
     "data": {
      "text/html": [
       "<div>\n",
       "<style scoped>\n",
       "    .dataframe tbody tr th:only-of-type {\n",
       "        vertical-align: middle;\n",
       "    }\n",
       "\n",
       "    .dataframe tbody tr th {\n",
       "        vertical-align: top;\n",
       "    }\n",
       "\n",
       "    .dataframe thead th {\n",
       "        text-align: right;\n",
       "    }\n",
       "</style>\n",
       "<table border=\"1\" class=\"dataframe\">\n",
       "  <thead>\n",
       "    <tr style=\"text-align: right;\">\n",
       "      <th></th>\n",
       "      <th>Team</th>\n",
       "      <th>Goals</th>\n",
       "    </tr>\n",
       "  </thead>\n",
       "  <tbody>\n",
       "    <tr>\n",
       "      <th>5</th>\n",
       "      <td>Germany</td>\n",
       "      <td>10.0</td>\n",
       "    </tr>\n",
       "    <tr>\n",
       "      <th>13</th>\n",
       "      <td>Spain</td>\n",
       "      <td>12.0</td>\n",
       "    </tr>\n",
       "  </tbody>\n",
       "</table>\n",
       "</div>"
      ],
      "text/plain": [
       "       Team  Goals\n",
       "5   Germany   10.0\n",
       "13    Spain   12.0"
      ]
     },
     "execution_count": 44,
     "metadata": {},
     "output_type": "execute_result"
    }
   ],
   "source": [
    "filt=euro12[['Team','Goals']]\n",
    "print(filt)\n",
    "filt[filt['Goals']>6]"
   ]
  },
  {
   "cell_type": "markdown",
   "metadata": {},
   "source": [
    "### Step 11. Select the teams that start with G"
   ]
  },
  {
   "cell_type": "code",
   "execution_count": 50,
   "metadata": {},
   "outputs": [
    {
     "ename": "TypeError",
     "evalue": "contains() got an unexpected keyword argument 'skipna'",
     "output_type": "error",
     "traceback": [
      "\u001b[1;31m---------------------------------------------------------------------------\u001b[0m",
      "\u001b[1;31mTypeError\u001b[0m                                 Traceback (most recent call last)",
      "\u001b[1;32m<ipython-input-50-accff8a5492f>\u001b[0m in \u001b[0;36m<module>\u001b[1;34m\u001b[0m\n\u001b[1;32m----> 1\u001b[1;33m \u001b[0mfilt\u001b[0m\u001b[1;33m[\u001b[0m\u001b[0mfilt\u001b[0m\u001b[1;33m[\u001b[0m\u001b[1;34m'Team'\u001b[0m\u001b[1;33m]\u001b[0m\u001b[1;33m.\u001b[0m\u001b[0mstr\u001b[0m\u001b[1;33m.\u001b[0m\u001b[0mcontains\u001b[0m\u001b[1;33m(\u001b[0m\u001b[1;34m'G'\u001b[0m\u001b[1;33m,\u001b[0m\u001b[0mregex\u001b[0m\u001b[1;33m=\u001b[0m \u001b[1;32mFalse\u001b[0m\u001b[1;33m,\u001b[0m\u001b[0mskipna\u001b[0m\u001b[1;33m=\u001b[0m\u001b[1;32mTrue\u001b[0m\u001b[1;33m)\u001b[0m\u001b[1;33m]\u001b[0m\u001b[1;33m\u001b[0m\u001b[1;33m\u001b[0m\u001b[0m\n\u001b[0m",
      "\u001b[1;31mTypeError\u001b[0m: contains() got an unexpected keyword argument 'skipna'"
     ]
    }
   ],
   "source": [
    "filt[filt['Team'].str.contains('G',regex= False,skipna=True)]"
   ]
  },
  {
   "cell_type": "markdown",
   "metadata": {},
   "source": [
    "### Step 12. Select the first 7 columns"
   ]
  },
  {
   "cell_type": "code",
   "execution_count": null,
   "metadata": {},
   "outputs": [],
   "source": []
  },
  {
   "cell_type": "markdown",
   "metadata": {},
   "source": [
    "### Step 13. Select all columns except the last 3."
   ]
  },
  {
   "cell_type": "code",
   "execution_count": null,
   "metadata": {},
   "outputs": [],
   "source": []
  },
  {
   "cell_type": "markdown",
   "metadata": {},
   "source": [
    "### Step 14. Present only the Shooting Accuracy from England, Italy and Russia"
   ]
  },
  {
   "cell_type": "code",
   "execution_count": null,
   "metadata": {},
   "outputs": [],
   "source": []
  },
  {
   "cell_type": "markdown",
   "metadata": {},
   "source": [
    "### Step 15. Use apply method on Goal Column to make a new column called Performance, using following conditions\n",
    "\n",
    "1. If Goals are less than or equal to 2, peformance is **Below Avg**\n",
    "2. If Goals are more than 2 and less than or equal to 5, peformance is **Average**\n",
    "3. If Goals are more than 5 and less than or equal to 10, peformance is **Above Average**\n",
    "4. If Goals are more than 10 then peformance is **Excellent**"
   ]
  },
  {
   "cell_type": "code",
   "execution_count": null,
   "metadata": {},
   "outputs": [],
   "source": []
  }
 ],
 "metadata": {
  "anaconda-cloud": {},
  "kernelspec": {
   "display_name": "Python 3",
   "language": "python",
   "name": "python3"
  },
  "language_info": {
   "codemirror_mode": {
    "name": "ipython",
    "version": 3
   },
   "file_extension": ".py",
   "mimetype": "text/x-python",
   "name": "python",
   "nbconvert_exporter": "python",
   "pygments_lexer": "ipython3",
   "version": "3.7.3"
  }
 },
 "nbformat": 4,
 "nbformat_minor": 1
}
