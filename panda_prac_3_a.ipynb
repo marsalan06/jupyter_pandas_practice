{
 "cells": [
  {
   "cell_type": "code",
   "execution_count": 3,
   "metadata": {
    "scrolled": true
   },
   "outputs": [
    {
     "name": "stdout",
     "output_type": "stream",
     "text": [
      "                         title  year\n",
      "0               The Rising Son  1990\n",
      "1      The Thousand Plane Raid  1969\n",
      "2             Crucea de piatra  1993\n",
      "3                      Country  2000\n",
      "4                   Gaiking II  2011\n",
      "...                        ...   ...\n",
      "49995                    Rebel  1970\n",
      "49996                  Suzanne  1996\n",
      "49997                    Bomba  2013\n",
      "49998     Aao Jao Ghar Tumhara  1984\n",
      "49999               Mrs. Munck  1995\n",
      "\n",
      "[50000 rows x 2 columns]\n"
     ]
    }
   ],
   "source": [
    "import pandas as pd\n",
    "import numpy as np\n",
    "data=pd.read_csv(\"titles.csv\")\n",
    "pd.set_option('max_rows',10,'max_columns',10)\n",
    "print(data)"
   ]
  },
  {
   "cell_type": "code",
   "execution_count": 4,
   "metadata": {},
   "outputs": [
    {
     "name": "stdout",
     "output_type": "stream",
     "text": [
      "<class 'pandas.core.frame.DataFrame'>\n"
     ]
    }
   ],
   "source": [
    "print(type(data)) #dataframe"
   ]
  },
  {
   "cell_type": "code",
   "execution_count": 6,
   "metadata": {},
   "outputs": [
    {
     "name": "stdout",
     "output_type": "stream",
     "text": [
      "<class 'pandas.core.series.Series'>\n",
      "0             The Rising Son\n",
      "1    The Thousand Plane Raid\n",
      "2           Crucea de piatra\n",
      "3                    Country\n",
      "4                 Gaiking II\n",
      "Name: title, dtype: object\n"
     ]
    }
   ],
   "source": [
    "t=data['title']\n",
    "print(type(t)) #series\n",
    "print(t.head())"
   ]
  },
  {
   "cell_type": "code",
   "execution_count": 7,
   "metadata": {},
   "outputs": [
    {
     "name": "stdout",
     "output_type": "stream",
     "text": [
      "Crucea de piatra\n"
     ]
    }
   ],
   "source": [
    "print(t.iloc[2]) #get value based"
   ]
  },
  {
   "cell_type": "code",
   "execution_count": 14,
   "metadata": {},
   "outputs": [
    {
     "name": "stdout",
     "output_type": "stream",
     "text": [
      "(25120, 2)\n",
      "                            title  year\n",
      "3                         Country  2000\n",
      "4                      Gaiking II  2011\n",
      "5                     Medusa (IV)  2015\n",
      "6  The Fresh Air Will Do You Good  2008\n",
      "8                      L'outsider  2016\n"
     ]
    }
   ],
   "source": [
    "#filtering\n",
    "#year wise after 1995\n",
    "t=data[data['year']>1995] #filter performed creates\n",
    "#data frame\n",
    "print(np.shape(t))\n",
    "print(t.head())\n"
   ]
  },
  {
   "cell_type": "code",
   "execution_count": 16,
   "metadata": {},
   "outputs": [
    {
     "name": "stdout",
     "output_type": "stream",
     "text": [
      "                           title  year\n",
      "0                 The Rising Son  1990\n",
      "1        The Thousand Plane Raid  1969\n",
      "2               Crucea de piatra  1993\n",
      "7             Alex in Wonderland  1970\n",
      "12      Poka Makorer Ghar Bosoti  1996\n",
      "...                          ...   ...\n",
      "49994  Lille Fridolf blir morfar  1957\n",
      "49995                      Rebel  1970\n",
      "49996                    Suzanne  1996\n",
      "49998       Aao Jao Ghar Tumhara  1984\n",
      "49999                 Mrs. Munck  1995\n",
      "\n",
      "[26884 rows x 2 columns]\n"
     ]
    }
   ],
   "source": [
    "t=data[(data['year']>1900) & (data['year']<2000)]\n",
    "#multiple conditions\n",
    "print(t)"
   ]
  },
  {
   "cell_type": "code",
   "execution_count": 17,
   "metadata": {},
   "outputs": [
    {
     "name": "stdout",
     "output_type": "stream",
     "text": [
      "         title  year\n",
      "4226   Macbeth  1913\n",
      "9322   Macbeth  2006\n",
      "11722  Macbeth  2013\n",
      "17166  Macbeth  1997\n",
      "25847  Macbeth  1998\n"
     ]
    }
   ],
   "source": [
    "#sorting \n",
    "movie_name=data[data['title']=='Macbeth'].sort_index()\n",
    "print(movie_name) #shows default index wise sorting"
   ]
  },
  {
   "cell_type": "code",
   "execution_count": 18,
   "metadata": {},
   "outputs": [
    {
     "name": "stdout",
     "output_type": "stream",
     "text": [
      "         title  year\n",
      "4226   Macbeth  1913\n",
      "17166  Macbeth  1997\n",
      "25847  Macbeth  1998\n",
      "9322   Macbeth  2006\n",
      "11722  Macbeth  2013\n"
     ]
    }
   ],
   "source": [
    "movie_name=data[data['title']=='Macbeth'].sort_values('year')\n",
    "#sorting column wise\n",
    "print(movie_name) #shows default index wise sorting"
   ]
  },
  {
   "cell_type": "code",
   "execution_count": null,
   "metadata": {},
   "outputs": [],
   "source": []
  }
 ],
 "metadata": {
  "kernelspec": {
   "display_name": "Python 3",
   "language": "python",
   "name": "python3"
  },
  "language_info": {
   "codemirror_mode": {
    "name": "ipython",
    "version": 3
   },
   "file_extension": ".py",
   "mimetype": "text/x-python",
   "name": "python",
   "nbconvert_exporter": "python",
   "pygments_lexer": "ipython3",
   "version": "3.7.3"
  }
 },
 "nbformat": 4,
 "nbformat_minor": 2
}
